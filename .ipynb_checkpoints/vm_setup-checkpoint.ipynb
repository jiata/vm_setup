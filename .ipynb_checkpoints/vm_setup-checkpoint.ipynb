{
 "cells": [
  {
   "cell_type": "markdown",
   "metadata": {},
   "source": [
    "# VM Setup"
   ]
  },
  {
   "cell_type": "code",
   "execution_count": null,
   "metadata": {},
   "outputs": [],
   "source": [
    "AZURE_SUBSCRIPTION_ID = \"add-your-subs-id\"\n",
    "RG_NAME = \"add-your-resource-group-name\"\n",
    "LOCATION = \"add-your-resource-group-location\""
   ]
  },
  {
   "cell_type": "code",
   "execution_count": null,
   "metadata": {},
   "outputs": [],
   "source": [
    "!az login"
   ]
  },
  {
   "cell_type": "code",
   "execution_count": null,
   "metadata": {},
   "outputs": [],
   "source": [
    "!az account set -s {AZURE_SUBSCRIPTION_ID}"
   ]
  },
  {
   "cell_type": "code",
   "execution_count": null,
   "metadata": {},
   "outputs": [],
   "source": [
    "!az account show"
   ]
  },
  {
   "cell_type": "code",
   "execution_count": null,
   "metadata": {},
   "outputs": [],
   "source": [
    "VM_NAME = \"add-your-vm-name\""
   ]
  },
  {
   "cell_type": "code",
   "execution_count": null,
   "metadata": {},
   "outputs": [],
   "source": [
    "!az group create --name {RG_NAME} --location {LOCATION}"
   ]
  },
  {
   "cell_type": "code",
   "execution_count": null,
   "metadata": {},
   "outputs": [],
   "source": [
    "VM_PARAMS = \"\"\"{{\n",
    "  \"$schema\": \"https://schema.management.azure.com/schemas/2015-01-01/deploymentParameters.json#\",\n",
    "  \"contentVersion\": \"1.0.0.0\",\n",
    "  \"parameters\": {{\n",
    "     \"adminUsername\": {{ \"value\" : \"jiata\"}},\n",
    "     \"adminPassword\": {{ \"value\" : \"Mlads99\"}},\n",
    "     \"vmName\": {{ \"value\" : \"{}\"}},\n",
    "     \"vmSize\": {{ \"value\" : \"Standard_NC6s_v3\"}}\n",
    "  }}\n",
    "}}\"\"\".format(VM_NAME)"
   ]
  },
  {
   "cell_type": "code",
   "execution_count": null,
   "metadata": {},
   "outputs": [],
   "source": [
    "!az group deployment create --resource-group {RG_NAME} --template-uri https://raw.githubusercontent.com/Azure/DataScienceVM/master/Scripts/CreateDSVM/Ubuntu/azuredeploy.json --parameters '{VM_PARAMS}'"
   ]
  },
  {
   "cell_type": "code",
   "execution_count": null,
   "metadata": {},
   "outputs": [],
   "source": [
    "!az vm show -d -g {RG_NAME} -n {VM_NAME} --query publicIps -o table"
   ]
  },
  {
   "cell_type": "code",
   "execution_count": null,
   "metadata": {},
   "outputs": [],
   "source": [
    "protectedSettings=\"\"\"{\n",
    "    \"fileUris\": [\"https://raw.githubusercontent.com/loomlike/loomlike.github.io/master/vm_setup.sh\"],\n",
    "    \"commandToExecute\": \"./vm_setup.sh\"\n",
    "}\"\"\""
   ]
  },
  {
   "cell_type": "code",
   "execution_count": null,
   "metadata": {},
   "outputs": [],
   "source": [
    "!az vm extension set --resource-group {RG_NAME} --vm-name {VM_NAME} --name customScript --publisher Microsoft.Azure.Extensions --force-update --protected-settings '{protectedSettings}'"
   ]
  },
  {
   "cell_type": "code",
   "execution_count": null,
   "metadata": {},
   "outputs": [],
   "source": []
  }
 ],
 "metadata": {
  "kernelspec": {
   "display_name": "Python (cv)",
   "language": "python",
   "name": "cv"
  },
  "language_info": {
   "codemirror_mode": {
    "name": "ipython",
    "version": 3
   },
   "file_extension": ".py",
   "mimetype": "text/x-python",
   "name": "python",
   "nbconvert_exporter": "python",
   "pygments_lexer": "ipython3",
   "version": "3.6.8"
  }
 },
 "nbformat": 4,
 "nbformat_minor": 2
}
